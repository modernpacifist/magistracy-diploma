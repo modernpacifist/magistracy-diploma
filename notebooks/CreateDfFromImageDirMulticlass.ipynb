{
 "cells": [
  {
   "cell_type": "code",
   "execution_count": 6,
   "id": "e119a95d-d922-40af-8f1b-b4154af67e81",
   "metadata": {},
   "outputs": [],
   "source": [
    "import pandas as pd"
   ]
  },
  {
   "cell_type": "code",
   "execution_count": 7,
   "id": "7d621227-3104-4eb6-8909-87705a6e8eb8",
   "metadata": {},
   "outputs": [],
   "source": [
    "DATA_DIR = \"./data/vaska_distributed_probability_07\""
   ]
  },
  {
   "cell_type": "code",
   "execution_count": 8,
   "id": "f6b0313b-9728-4098-be69-2622774908e5",
   "metadata": {},
   "outputs": [],
   "source": [
    "full_df = pd.read_csv(\"./data/20250515-vaska.csv\")"
   ]
  },
  {
   "cell_type": "code",
   "execution_count": 9,
   "id": "541c2433-521a-4503-a239-4c9eada882f7",
   "metadata": {},
   "outputs": [
    {
     "data": {
      "text/html": [
       "<div>\n",
       "<style scoped>\n",
       "    .dataframe tbody tr th:only-of-type {\n",
       "        vertical-align: middle;\n",
       "    }\n",
       "\n",
       "    .dataframe tbody tr th {\n",
       "        vertical-align: top;\n",
       "    }\n",
       "\n",
       "    .dataframe thead th {\n",
       "        text-align: right;\n",
       "    }\n",
       "</style>\n",
       "<table border=\"1\" class=\"dataframe\">\n",
       "  <thead>\n",
       "    <tr style=\"text-align: right;\">\n",
       "      <th></th>\n",
       "      <th>filename</th>\n",
       "      <th>lng</th>\n",
       "      <th>lat</th>\n",
       "      <th>date</th>\n",
       "      <th>src</th>\n",
       "      <th>thumbnail</th>\n",
       "      <th>score</th>\n",
       "      <th>label</th>\n",
       "    </tr>\n",
       "  </thead>\n",
       "  <tbody>\n",
       "    <tr>\n",
       "      <th>0</th>\n",
       "      <td>-154851022_456243210.jpg</td>\n",
       "      <td>30.209348</td>\n",
       "      <td>59.93564</td>\n",
       "      <td>2019-04-10 07:38:38</td>\n",
       "      <td>https://sun9-34.userapi.com/sun9-19/impf/c8486...</td>\n",
       "      <td>https://sun9-34.userapi.com/sun9-19/impf/c8486...</td>\n",
       "      <td>0.050982</td>\n",
       "      <td>n</td>\n",
       "    </tr>\n",
       "    <tr>\n",
       "      <th>1</th>\n",
       "      <td>-154851022_456243200.jpg</td>\n",
       "      <td>30.209348</td>\n",
       "      <td>59.93564</td>\n",
       "      <td>2019-04-10 07:38:19</td>\n",
       "      <td>https://sun9-34.userapi.com/sun9-15/impf/c8551...</td>\n",
       "      <td>https://sun9-34.userapi.com/sun9-15/impf/c8551...</td>\n",
       "      <td>0.001280</td>\n",
       "      <td>n</td>\n",
       "    </tr>\n",
       "    <tr>\n",
       "      <th>2</th>\n",
       "      <td>-154851022_456243195.jpg</td>\n",
       "      <td>30.209348</td>\n",
       "      <td>59.93564</td>\n",
       "      <td>2019-04-10 07:37:28</td>\n",
       "      <td>https://sun9-34.userapi.com/sun9-65/impf/c8550...</td>\n",
       "      <td>https://sun9-34.userapi.com/sun9-65/impf/c8550...</td>\n",
       "      <td>0.050017</td>\n",
       "      <td>n</td>\n",
       "    </tr>\n",
       "    <tr>\n",
       "      <th>3</th>\n",
       "      <td>-154851022_456243190.jpg</td>\n",
       "      <td>30.209348</td>\n",
       "      <td>59.93564</td>\n",
       "      <td>2019-04-10 07:36:39</td>\n",
       "      <td>https://sun9-34.userapi.com/sun9-45/impf/c8557...</td>\n",
       "      <td>https://sun9-34.userapi.com/sun9-45/impf/c8557...</td>\n",
       "      <td>0.777946</td>\n",
       "      <td>y</td>\n",
       "    </tr>\n",
       "    <tr>\n",
       "      <th>4</th>\n",
       "      <td>-154851022_456243158.jpg</td>\n",
       "      <td>30.209348</td>\n",
       "      <td>59.93564</td>\n",
       "      <td>2019-04-10 07:32:26</td>\n",
       "      <td>https://sun9-34.userapi.com/sun9-36/impf/c8450...</td>\n",
       "      <td>https://sun9-34.userapi.com/sun9-36/impf/c8450...</td>\n",
       "      <td>0.499803</td>\n",
       "      <td>n</td>\n",
       "    </tr>\n",
       "  </tbody>\n",
       "</table>\n",
       "</div>"
      ],
      "text/plain": [
       "                   filename        lng       lat                 date  \\\n",
       "0  -154851022_456243210.jpg  30.209348  59.93564  2019-04-10 07:38:38   \n",
       "1  -154851022_456243200.jpg  30.209348  59.93564  2019-04-10 07:38:19   \n",
       "2  -154851022_456243195.jpg  30.209348  59.93564  2019-04-10 07:37:28   \n",
       "3  -154851022_456243190.jpg  30.209348  59.93564  2019-04-10 07:36:39   \n",
       "4  -154851022_456243158.jpg  30.209348  59.93564  2019-04-10 07:32:26   \n",
       "\n",
       "                                                 src  \\\n",
       "0  https://sun9-34.userapi.com/sun9-19/impf/c8486...   \n",
       "1  https://sun9-34.userapi.com/sun9-15/impf/c8551...   \n",
       "2  https://sun9-34.userapi.com/sun9-65/impf/c8550...   \n",
       "3  https://sun9-34.userapi.com/sun9-45/impf/c8557...   \n",
       "4  https://sun9-34.userapi.com/sun9-36/impf/c8450...   \n",
       "\n",
       "                                           thumbnail     score label  \n",
       "0  https://sun9-34.userapi.com/sun9-19/impf/c8486...  0.050982     n  \n",
       "1  https://sun9-34.userapi.com/sun9-15/impf/c8551...  0.001280     n  \n",
       "2  https://sun9-34.userapi.com/sun9-65/impf/c8550...  0.050017     n  \n",
       "3  https://sun9-34.userapi.com/sun9-45/impf/c8557...  0.777946     y  \n",
       "4  https://sun9-34.userapi.com/sun9-36/impf/c8450...  0.499803     n  "
      ]
     },
     "execution_count": 9,
     "metadata": {},
     "output_type": "execute_result"
    }
   ],
   "source": [
    "full_df.head()"
   ]
  },
  {
   "cell_type": "code",
   "execution_count": 10,
   "id": "1af58536-79fc-4983-a4b3-d057d9732ee5",
   "metadata": {},
   "outputs": [
    {
     "data": {
      "text/plain": [
       "(1045032, 8)"
      ]
     },
     "execution_count": 10,
     "metadata": {},
     "output_type": "execute_result"
    }
   ],
   "source": [
    "full_df.shape"
   ]
  },
  {
   "cell_type": "code",
   "execution_count": 11,
   "id": "c407ee36-4897-4310-9ac8-85ff33684efa",
   "metadata": {},
   "outputs": [
    {
     "name": "stdout",
     "output_type": "stream",
     "text": [
      "Found 13 classes: ['activity', 'animal', 'city', 'indoor', 'kebab', 'nature', 'object', 'other', 'outdoor', 'painting', 'people', 'transport', 'vegetable']\n",
      "Saved class 'activity' to ./data/vaska_class_activity.csv\n",
      "Class 'activity' dataframe shape: (42500, 8)\n",
      "Saved class 'animal' to ./data/vaska_class_animal.csv\n",
      "Class 'animal' dataframe shape: (7384, 8)\n",
      "Saved class 'city' to ./data/vaska_class_city.csv\n",
      "Class 'city' dataframe shape: (43879, 8)\n",
      "Saved class 'indoor' to ./data/vaska_class_indoor.csv\n",
      "Class 'indoor' dataframe shape: (14184, 8)\n",
      "Saved class 'kebab' to ./data/vaska_class_kebab.csv\n",
      "Class 'kebab' dataframe shape: (718, 8)\n",
      "Saved class 'nature' to ./data/vaska_class_nature.csv\n",
      "Class 'nature' dataframe shape: (5886, 8)\n",
      "Saved class 'object' to ./data/vaska_class_object.csv\n",
      "Class 'object' dataframe shape: (841, 8)\n",
      "Saved class 'other' to ./data/vaska_class_other.csv\n",
      "Class 'other' dataframe shape: (3447, 8)\n",
      "Saved class 'outdoor' to ./data/vaska_class_outdoor.csv\n",
      "Class 'outdoor' dataframe shape: (44630, 8)\n",
      "Saved class 'painting' to ./data/vaska_class_painting.csv\n",
      "Class 'painting' dataframe shape: (581, 8)\n",
      "Saved class 'people' to ./data/vaska_class_people.csv\n",
      "Class 'people' dataframe shape: (130047, 8)\n",
      "Saved class 'transport' to ./data/vaska_class_transport.csv\n",
      "Class 'transport' dataframe shape: (5704, 8)\n",
      "Saved class 'vegetable' to ./data/vaska_class_vegetable.csv\n",
      "Class 'vegetable' dataframe shape: (4085, 8)\n",
      "\n",
      "Sample from class 'activity':\n",
      "                   filename        lng        lat                 date  \\\n",
      "0     7722308_347750425.jpg  30.211212  59.935420  2014-12-05 10:19:41   \n",
      "1  -128372026_456241358.jpg  30.216744  59.935369  2017-07-19 08:54:22   \n",
      "2  -128372026_456241357.jpg  30.216744  59.935369  2017-07-19 08:54:21   \n",
      "3     7224695_456240114.jpg  30.216744  59.935369  2017-07-18 09:03:00   \n",
      "4    19045838_456239790.jpg  30.209549  59.935610  2017-10-24 07:00:07   \n",
      "\n",
      "                                                 src  \\\n",
      "0  https://sun9-78.userapi.com/impf/c623226/v6232...   \n",
      "1  https://sun9-84.userapi.com/impf/c639122/v6391...   \n",
      "2  https://sun9-52.userapi.com/impf/c639122/v6391...   \n",
      "3  https://sun9-27.userapi.com/impf/c836722/v8367...   \n",
      "4  https://sun9-15.userapi.com/impf/c841226/v8412...   \n",
      "\n",
      "                                           thumbnail     score label  \n",
      "0  https://sun9-78.userapi.com/impf/c623226/v6232...  0.016905     n  \n",
      "1  https://sun9-84.userapi.com/impf/c639122/v6391...  0.529964     y  \n",
      "2  https://sun9-52.userapi.com/impf/c639122/v6391...  0.378504     n  \n",
      "3  https://sun9-27.userapi.com/impf/c836722/v8367...  0.529964     y  \n",
      "4  https://sun9-15.userapi.com/impf/c841226/v8412...  0.337898     n  \n"
     ]
    }
   ],
   "source": [
    "import os\n",
    "\n",
    "# Dictionary to store dataframes for each class\n",
    "class_dataframes = {}\n",
    "\n",
    "# Get list of all subdirectories (classes) in DATA_DIR\n",
    "class_dirs = [d for d in os.listdir(DATA_DIR) if os.path.isdir(os.path.join(DATA_DIR, d))]\n",
    "print(f\"Found {len(class_dirs)} classes: {class_dirs}\")\n",
    "\n",
    "# Process each class directory\n",
    "for class_name in class_dirs:\n",
    "    class_path = os.path.join(DATA_DIR, class_name)\n",
    "\n",
    "    # Get list of files in this class directory\n",
    "    class_files = os.listdir(class_path)\n",
    "    \n",
    "    # Create a dataframe with just the filenames\n",
    "    class_files_df = pd.DataFrame(class_files, columns=['filename'])\n",
    "    \n",
    "    # Inner join with the original dataframe to keep only matching rows\n",
    "    class_df = pd.merge(full_df, class_files_df, on='filename', how='inner')\n",
    "    \n",
    "    # Store the dataframe in our dictionary\n",
    "    class_dataframes[class_name] = class_df\n",
    "    \n",
    "    # Save this class dataframe to a CSV file\n",
    "    csv_filename = f\"./data/vaska_class_{class_name}.csv\"\n",
    "    class_df.to_csv(csv_filename, index=False)\n",
    "    print(f\"Saved class '{class_name}' to {csv_filename}\")\n",
    "    \n",
    "    # Print info about this class\n",
    "    print(f\"Class '{class_name}' dataframe shape: {class_df.shape}\")\n",
    "\n",
    "# Example to display the first few rows of the first class (if any classes were found)\n",
    "if class_dirs:\n",
    "    first_class = class_dirs[0]\n",
    "    print(f\"\\nSample from class '{first_class}':\")\n",
    "    print(class_dataframes[first_class].head())"
   ]
  },
  {
   "cell_type": "code",
   "execution_count": 14,
   "id": "d80d2eb8-c269-4c87-8901-f1aed24f67df",
   "metadata": {},
   "outputs": [
    {
     "data": {
      "text/plain": [
       "(42500, 8)"
      ]
     },
     "execution_count": 14,
     "metadata": {},
     "output_type": "execute_result"
    }
   ],
   "source": [
    "class_dataframes[\"activity\"].shape"
   ]
  },
  {
   "cell_type": "code",
   "execution_count": 19,
   "id": "d388b121-cf17-4d3f-9ca7-50214c142d38",
   "metadata": {},
   "outputs": [
    {
     "name": "stdout",
     "output_type": "stream",
     "text": [
      "activity (42500, 8)\n",
      "animal (7384, 8)\n",
      "city (43879, 8)\n",
      "indoor (14184, 8)\n",
      "kebab (718, 8)\n",
      "nature (5886, 8)\n",
      "object (841, 8)\n",
      "other (3447, 8)\n",
      "outdoor (44630, 8)\n",
      "painting (581, 8)\n",
      "people (130047, 8)\n",
      "transport (5704, 8)\n",
      "vegetable (4085, 8)\n"
     ]
    }
   ],
   "source": [
    "for name in class_dataframes.keys():\n",
    "    print(name, class_dataframes[name].shape)"
   ]
  }
 ],
 "metadata": {
  "kernelspec": {
   "display_name": "Python 3 (ipykernel)",
   "language": "python",
   "name": "python3"
  },
  "language_info": {
   "codemirror_mode": {
    "name": "ipython",
    "version": 3
   },
   "file_extension": ".py",
   "mimetype": "text/x-python",
   "name": "python",
   "nbconvert_exporter": "python",
   "pygments_lexer": "ipython3",
   "version": "3.12.3"
  }
 },
 "nbformat": 4,
 "nbformat_minor": 5
}
