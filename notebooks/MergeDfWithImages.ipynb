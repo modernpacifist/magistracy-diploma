{
 "cells": [
  {
   "cell_type": "code",
   "execution_count": 8,
   "id": "e119a95d-d922-40af-8f1b-b4154af67e81",
   "metadata": {},
   "outputs": [],
   "source": [
    "import pandas as pd"
   ]
  },
  {
   "cell_type": "code",
   "execution_count": 9,
   "id": "7d621227-3104-4eb6-8909-87705a6e8eb8",
   "metadata": {},
   "outputs": [],
   "source": [
    "DATA_DIR = \"./data/\"\n",
    "CLEAN_DATA_DIR = \"./data/vaska_clean\""
   ]
  },
  {
   "cell_type": "code",
   "execution_count": 3,
   "id": "f6b0313b-9728-4098-be69-2622774908e5",
   "metadata": {},
   "outputs": [],
   "source": [
    "full_df = pd.read_csv(\"./data/20250515-vaska.csv\")"
   ]
  },
  {
   "cell_type": "code",
   "execution_count": 10,
   "id": "541c2433-521a-4503-a239-4c9eada882f7",
   "metadata": {},
   "outputs": [
    {
     "data": {
      "text/html": [
       "<div>\n",
       "<style scoped>\n",
       "    .dataframe tbody tr th:only-of-type {\n",
       "        vertical-align: middle;\n",
       "    }\n",
       "\n",
       "    .dataframe tbody tr th {\n",
       "        vertical-align: top;\n",
       "    }\n",
       "\n",
       "    .dataframe thead th {\n",
       "        text-align: right;\n",
       "    }\n",
       "</style>\n",
       "<table border=\"1\" class=\"dataframe\">\n",
       "  <thead>\n",
       "    <tr style=\"text-align: right;\">\n",
       "      <th></th>\n",
       "      <th>filename</th>\n",
       "      <th>lng</th>\n",
       "      <th>lat</th>\n",
       "      <th>date</th>\n",
       "      <th>src</th>\n",
       "      <th>thumbnail</th>\n",
       "      <th>score</th>\n",
       "      <th>label</th>\n",
       "    </tr>\n",
       "  </thead>\n",
       "  <tbody>\n",
       "    <tr>\n",
       "      <th>0</th>\n",
       "      <td>-154851022_456243210.jpg</td>\n",
       "      <td>30.209348</td>\n",
       "      <td>59.93564</td>\n",
       "      <td>2019-04-10 07:38:38</td>\n",
       "      <td>https://sun9-34.userapi.com/sun9-19/impf/c8486...</td>\n",
       "      <td>https://sun9-34.userapi.com/sun9-19/impf/c8486...</td>\n",
       "      <td>0.050982</td>\n",
       "      <td>n</td>\n",
       "    </tr>\n",
       "    <tr>\n",
       "      <th>1</th>\n",
       "      <td>-154851022_456243200.jpg</td>\n",
       "      <td>30.209348</td>\n",
       "      <td>59.93564</td>\n",
       "      <td>2019-04-10 07:38:19</td>\n",
       "      <td>https://sun9-34.userapi.com/sun9-15/impf/c8551...</td>\n",
       "      <td>https://sun9-34.userapi.com/sun9-15/impf/c8551...</td>\n",
       "      <td>0.001280</td>\n",
       "      <td>n</td>\n",
       "    </tr>\n",
       "    <tr>\n",
       "      <th>2</th>\n",
       "      <td>-154851022_456243195.jpg</td>\n",
       "      <td>30.209348</td>\n",
       "      <td>59.93564</td>\n",
       "      <td>2019-04-10 07:37:28</td>\n",
       "      <td>https://sun9-34.userapi.com/sun9-65/impf/c8550...</td>\n",
       "      <td>https://sun9-34.userapi.com/sun9-65/impf/c8550...</td>\n",
       "      <td>0.050017</td>\n",
       "      <td>n</td>\n",
       "    </tr>\n",
       "    <tr>\n",
       "      <th>3</th>\n",
       "      <td>-154851022_456243190.jpg</td>\n",
       "      <td>30.209348</td>\n",
       "      <td>59.93564</td>\n",
       "      <td>2019-04-10 07:36:39</td>\n",
       "      <td>https://sun9-34.userapi.com/sun9-45/impf/c8557...</td>\n",
       "      <td>https://sun9-34.userapi.com/sun9-45/impf/c8557...</td>\n",
       "      <td>0.777946</td>\n",
       "      <td>y</td>\n",
       "    </tr>\n",
       "    <tr>\n",
       "      <th>4</th>\n",
       "      <td>-154851022_456243158.jpg</td>\n",
       "      <td>30.209348</td>\n",
       "      <td>59.93564</td>\n",
       "      <td>2019-04-10 07:32:26</td>\n",
       "      <td>https://sun9-34.userapi.com/sun9-36/impf/c8450...</td>\n",
       "      <td>https://sun9-34.userapi.com/sun9-36/impf/c8450...</td>\n",
       "      <td>0.499803</td>\n",
       "      <td>n</td>\n",
       "    </tr>\n",
       "  </tbody>\n",
       "</table>\n",
       "</div>"
      ],
      "text/plain": [
       "                   filename        lng       lat                 date  \\\n",
       "0  -154851022_456243210.jpg  30.209348  59.93564  2019-04-10 07:38:38   \n",
       "1  -154851022_456243200.jpg  30.209348  59.93564  2019-04-10 07:38:19   \n",
       "2  -154851022_456243195.jpg  30.209348  59.93564  2019-04-10 07:37:28   \n",
       "3  -154851022_456243190.jpg  30.209348  59.93564  2019-04-10 07:36:39   \n",
       "4  -154851022_456243158.jpg  30.209348  59.93564  2019-04-10 07:32:26   \n",
       "\n",
       "                                                 src  \\\n",
       "0  https://sun9-34.userapi.com/sun9-19/impf/c8486...   \n",
       "1  https://sun9-34.userapi.com/sun9-15/impf/c8551...   \n",
       "2  https://sun9-34.userapi.com/sun9-65/impf/c8550...   \n",
       "3  https://sun9-34.userapi.com/sun9-45/impf/c8557...   \n",
       "4  https://sun9-34.userapi.com/sun9-36/impf/c8450...   \n",
       "\n",
       "                                           thumbnail     score label  \n",
       "0  https://sun9-34.userapi.com/sun9-19/impf/c8486...  0.050982     n  \n",
       "1  https://sun9-34.userapi.com/sun9-15/impf/c8551...  0.001280     n  \n",
       "2  https://sun9-34.userapi.com/sun9-65/impf/c8550...  0.050017     n  \n",
       "3  https://sun9-34.userapi.com/sun9-45/impf/c8557...  0.777946     y  \n",
       "4  https://sun9-34.userapi.com/sun9-36/impf/c8450...  0.499803     n  "
      ]
     },
     "execution_count": 10,
     "metadata": {},
     "output_type": "execute_result"
    }
   ],
   "source": [
    "full_df.head()"
   ]
  },
  {
   "cell_type": "code",
   "execution_count": 11,
   "id": "1af58536-79fc-4983-a4b3-d057d9732ee5",
   "metadata": {},
   "outputs": [
    {
     "data": {
      "text/plain": [
       "(1045032, 8)"
      ]
     },
     "execution_count": 11,
     "metadata": {},
     "output_type": "execute_result"
    }
   ],
   "source": [
    "full_df.shape"
   ]
  },
  {
   "cell_type": "code",
   "execution_count": 12,
   "id": "c407ee36-4897-4310-9ac8-85ff33684efa",
   "metadata": {},
   "outputs": [
    {
     "name": "stdout",
     "output_type": "stream",
     "text": [
      "Original dataframe shape: (1045032, 8)\n",
      "Result dataframe shape: (515948, 8)\n"
     ]
    },
    {
     "data": {
      "text/html": [
       "<div>\n",
       "<style scoped>\n",
       "    .dataframe tbody tr th:only-of-type {\n",
       "        vertical-align: middle;\n",
       "    }\n",
       "\n",
       "    .dataframe tbody tr th {\n",
       "        vertical-align: top;\n",
       "    }\n",
       "\n",
       "    .dataframe thead th {\n",
       "        text-align: right;\n",
       "    }\n",
       "</style>\n",
       "<table border=\"1\" class=\"dataframe\">\n",
       "  <thead>\n",
       "    <tr style=\"text-align: right;\">\n",
       "      <th></th>\n",
       "      <th>filename</th>\n",
       "      <th>lng</th>\n",
       "      <th>lat</th>\n",
       "      <th>date</th>\n",
       "      <th>src</th>\n",
       "      <th>thumbnail</th>\n",
       "      <th>score</th>\n",
       "      <th>label</th>\n",
       "    </tr>\n",
       "  </thead>\n",
       "  <tbody>\n",
       "    <tr>\n",
       "      <th>0</th>\n",
       "      <td>-154851022_456243190.jpg</td>\n",
       "      <td>30.209348</td>\n",
       "      <td>59.935640</td>\n",
       "      <td>2019-04-10 07:36:39</td>\n",
       "      <td>https://sun9-34.userapi.com/sun9-45/impf/c8557...</td>\n",
       "      <td>https://sun9-34.userapi.com/sun9-45/impf/c8557...</td>\n",
       "      <td>0.777946</td>\n",
       "      <td>y</td>\n",
       "    </tr>\n",
       "    <tr>\n",
       "      <th>1</th>\n",
       "      <td>520855900_456239271.jpg</td>\n",
       "      <td>30.210542</td>\n",
       "      <td>59.935350</td>\n",
       "      <td>2019-04-01 18:51:27</td>\n",
       "      <td>https://sun9-34.userapi.com/sun9-14/impf/c8503...</td>\n",
       "      <td>https://sun9-34.userapi.com/sun9-14/impf/c8503...</td>\n",
       "      <td>0.994271</td>\n",
       "      <td>y</td>\n",
       "    </tr>\n",
       "    <tr>\n",
       "      <th>2</th>\n",
       "      <td>57067247_457247293.jpg</td>\n",
       "      <td>30.210491</td>\n",
       "      <td>59.935306</td>\n",
       "      <td>2022-08-21 19:46:05</td>\n",
       "      <td>https://sun9-20.userapi.com/impg/_0mxZ9pgEArdX...</td>\n",
       "      <td>https://sun9-20.userapi.com/impg/_0mxZ9pgEArdX...</td>\n",
       "      <td>0.999833</td>\n",
       "      <td>y</td>\n",
       "    </tr>\n",
       "    <tr>\n",
       "      <th>3</th>\n",
       "      <td>-5916667_457275901.jpg</td>\n",
       "      <td>30.211204</td>\n",
       "      <td>59.935717</td>\n",
       "      <td>2022-04-09 17:42:32</td>\n",
       "      <td>https://sun9-49.userapi.com/impg/CXH3jCoA22ay-...</td>\n",
       "      <td>https://sun9-49.userapi.com/impg/CXH3jCoA22ay-...</td>\n",
       "      <td>0.057622</td>\n",
       "      <td>n</td>\n",
       "    </tr>\n",
       "    <tr>\n",
       "      <th>4</th>\n",
       "      <td>-2206539_456240069.jpg</td>\n",
       "      <td>30.211622</td>\n",
       "      <td>59.935065</td>\n",
       "      <td>2017-12-26 20:15:36</td>\n",
       "      <td>https://sun9-33.userapi.com/impf/c841131/v8411...</td>\n",
       "      <td>https://sun9-33.userapi.com/impf/c841131/v8411...</td>\n",
       "      <td>0.999983</td>\n",
       "      <td>y</td>\n",
       "    </tr>\n",
       "  </tbody>\n",
       "</table>\n",
       "</div>"
      ],
      "text/plain": [
       "                   filename        lng        lat                 date  \\\n",
       "0  -154851022_456243190.jpg  30.209348  59.935640  2019-04-10 07:36:39   \n",
       "1   520855900_456239271.jpg  30.210542  59.935350  2019-04-01 18:51:27   \n",
       "2    57067247_457247293.jpg  30.210491  59.935306  2022-08-21 19:46:05   \n",
       "3    -5916667_457275901.jpg  30.211204  59.935717  2022-04-09 17:42:32   \n",
       "4    -2206539_456240069.jpg  30.211622  59.935065  2017-12-26 20:15:36   \n",
       "\n",
       "                                                 src  \\\n",
       "0  https://sun9-34.userapi.com/sun9-45/impf/c8557...   \n",
       "1  https://sun9-34.userapi.com/sun9-14/impf/c8503...   \n",
       "2  https://sun9-20.userapi.com/impg/_0mxZ9pgEArdX...   \n",
       "3  https://sun9-49.userapi.com/impg/CXH3jCoA22ay-...   \n",
       "4  https://sun9-33.userapi.com/impf/c841131/v8411...   \n",
       "\n",
       "                                           thumbnail     score label  \n",
       "0  https://sun9-34.userapi.com/sun9-45/impf/c8557...  0.777946     y  \n",
       "1  https://sun9-34.userapi.com/sun9-14/impf/c8503...  0.994271     y  \n",
       "2  https://sun9-20.userapi.com/impg/_0mxZ9pgEArdX...  0.999833     y  \n",
       "3  https://sun9-49.userapi.com/impg/CXH3jCoA22ay-...  0.057622     n  \n",
       "4  https://sun9-33.userapi.com/impf/c841131/v8411...  0.999983     y  "
      ]
     },
     "execution_count": 12,
     "metadata": {},
     "output_type": "execute_result"
    }
   ],
   "source": [
    "import os\n",
    "\n",
    "# Get list of files in the clean data directory\n",
    "clean_files = os.listdir(CLEAN_DATA_DIR)\n",
    "\n",
    "# Create a dataframe with just the filenames\n",
    "clean_files_df = pd.DataFrame(clean_files, columns=['filename'])\n",
    "\n",
    "# Inner join with the original dataframe to keep only matching rows\n",
    "result_df = pd.merge(full_df, clean_files_df, on='filename', how='inner')\n",
    "\n",
    "# Check the shape of the resulting dataframe\n",
    "print(f\"Original dataframe shape: {full_df.shape}\")\n",
    "print(f\"Result dataframe shape: {result_df.shape}\")\n",
    "\n",
    "# Display the first few rows\n",
    "result_df.head()"
   ]
  },
  {
   "cell_type": "code",
   "execution_count": 13,
   "id": "cac6affb-7cfa-4843-9a23-1a7c619491ff",
   "metadata": {},
   "outputs": [],
   "source": [
    "result_df.to_csv(\"./data/20250515-vaska_clean.csv\")"
   ]
  }
 ],
 "metadata": {
  "kernelspec": {
   "display_name": "Python 3 (ipykernel)",
   "language": "python",
   "name": "python3"
  },
  "language_info": {
   "codemirror_mode": {
    "name": "ipython",
    "version": 3
   },
   "file_extension": ".py",
   "mimetype": "text/x-python",
   "name": "python",
   "nbconvert_exporter": "python",
   "pygments_lexer": "ipython3",
   "version": "3.12.3"
  }
 },
 "nbformat": 4,
 "nbformat_minor": 5
}
